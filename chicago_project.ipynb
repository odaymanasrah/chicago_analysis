{
 "cells": [
  {
   "cell_type": "code",
   "execution_count": 1,
   "id": "f68f4686-6f5d-4eed-baff-3ecf3b53d0bb",
   "metadata": {},
   "outputs": [],
   "source": [
    "import pandas as pd\n"
   ]
  },
  {
   "cell_type": "code",
   "execution_count": 3,
   "id": "4741c1e8-a060-475d-9771-edf7a00ece73",
   "metadata": {},
   "outputs": [
    {
     "data": {
      "text/plain": [
       "'C:\\\\Users\\\\DELL'"
      ]
     },
     "execution_count": 3,
     "metadata": {},
     "output_type": "execute_result"
    }
   ],
   "source": [
    "pwd"
   ]
  },
  {
   "cell_type": "code",
   "execution_count": 4,
   "id": "7e188121-b205-4881-baa6-62abeb3d9c11",
   "metadata": {},
   "outputs": [],
   "source": [
    "file_path = 'chicago.csv' # Make sure the dataset is in the same directory as this script\n",
    "df = pd.read_csv(file_path)"
   ]
  },
  {
   "cell_type": "code",
   "execution_count": 5,
   "id": "f729ce68-cd8a-491a-977f-135a4c271be8",
   "metadata": {},
   "outputs": [
    {
     "data": {
      "text/html": [
       "<div>\n",
       "<style scoped>\n",
       "    .dataframe tbody tr th:only-of-type {\n",
       "        vertical-align: middle;\n",
       "    }\n",
       "\n",
       "    .dataframe tbody tr th {\n",
       "        vertical-align: top;\n",
       "    }\n",
       "\n",
       "    .dataframe thead th {\n",
       "        text-align: right;\n",
       "    }\n",
       "</style>\n",
       "<table border=\"1\" class=\"dataframe\">\n",
       "  <thead>\n",
       "    <tr style=\"text-align: right;\">\n",
       "      <th></th>\n",
       "      <th>Unnamed: 0</th>\n",
       "      <th>Start Time</th>\n",
       "      <th>End Time</th>\n",
       "      <th>Trip Duration</th>\n",
       "      <th>Start Station</th>\n",
       "      <th>End Station</th>\n",
       "      <th>User Type</th>\n",
       "      <th>Gender</th>\n",
       "      <th>Birth Year</th>\n",
       "    </tr>\n",
       "  </thead>\n",
       "  <tbody>\n",
       "    <tr>\n",
       "      <th>0</th>\n",
       "      <td>1423854</td>\n",
       "      <td>2017-06-23 15:09:32</td>\n",
       "      <td>2017-06-23 15:14:53</td>\n",
       "      <td>321</td>\n",
       "      <td>Wood St &amp; Hubbard St</td>\n",
       "      <td>Damen Ave &amp; Chicago Ave</td>\n",
       "      <td>Subscriber</td>\n",
       "      <td>Male</td>\n",
       "      <td>1992.0</td>\n",
       "    </tr>\n",
       "    <tr>\n",
       "      <th>1</th>\n",
       "      <td>955915</td>\n",
       "      <td>2017-05-25 18:19:03</td>\n",
       "      <td>2017-05-25 18:45:53</td>\n",
       "      <td>1610</td>\n",
       "      <td>Theater on the Lake</td>\n",
       "      <td>Sheffield Ave &amp; Waveland Ave</td>\n",
       "      <td>Subscriber</td>\n",
       "      <td>Female</td>\n",
       "      <td>1992.0</td>\n",
       "    </tr>\n",
       "    <tr>\n",
       "      <th>2</th>\n",
       "      <td>9031</td>\n",
       "      <td>2017-01-04 08:27:49</td>\n",
       "      <td>2017-01-04 08:34:45</td>\n",
       "      <td>416</td>\n",
       "      <td>May St &amp; Taylor St</td>\n",
       "      <td>Wood St &amp; Taylor St</td>\n",
       "      <td>Subscriber</td>\n",
       "      <td>Male</td>\n",
       "      <td>1981.0</td>\n",
       "    </tr>\n",
       "    <tr>\n",
       "      <th>3</th>\n",
       "      <td>304487</td>\n",
       "      <td>2017-03-06 13:49:38</td>\n",
       "      <td>2017-03-06 13:55:28</td>\n",
       "      <td>350</td>\n",
       "      <td>Christiana Ave &amp; Lawrence Ave</td>\n",
       "      <td>St. Louis Ave &amp; Balmoral Ave</td>\n",
       "      <td>Subscriber</td>\n",
       "      <td>Male</td>\n",
       "      <td>1986.0</td>\n",
       "    </tr>\n",
       "    <tr>\n",
       "      <th>4</th>\n",
       "      <td>45207</td>\n",
       "      <td>2017-01-17 14:53:07</td>\n",
       "      <td>2017-01-17 15:02:01</td>\n",
       "      <td>534</td>\n",
       "      <td>Clark St &amp; Randolph St</td>\n",
       "      <td>Desplaines St &amp; Jackson Blvd</td>\n",
       "      <td>Subscriber</td>\n",
       "      <td>Male</td>\n",
       "      <td>1975.0</td>\n",
       "    </tr>\n",
       "  </tbody>\n",
       "</table>\n",
       "</div>"
      ],
      "text/plain": [
       "   Unnamed: 0           Start Time             End Time  Trip Duration  \\\n",
       "0     1423854  2017-06-23 15:09:32  2017-06-23 15:14:53            321   \n",
       "1      955915  2017-05-25 18:19:03  2017-05-25 18:45:53           1610   \n",
       "2        9031  2017-01-04 08:27:49  2017-01-04 08:34:45            416   \n",
       "3      304487  2017-03-06 13:49:38  2017-03-06 13:55:28            350   \n",
       "4       45207  2017-01-17 14:53:07  2017-01-17 15:02:01            534   \n",
       "\n",
       "                   Start Station                   End Station   User Type  \\\n",
       "0           Wood St & Hubbard St       Damen Ave & Chicago Ave  Subscriber   \n",
       "1            Theater on the Lake  Sheffield Ave & Waveland Ave  Subscriber   \n",
       "2             May St & Taylor St           Wood St & Taylor St  Subscriber   \n",
       "3  Christiana Ave & Lawrence Ave  St. Louis Ave & Balmoral Ave  Subscriber   \n",
       "4         Clark St & Randolph St  Desplaines St & Jackson Blvd  Subscriber   \n",
       "\n",
       "   Gender  Birth Year  \n",
       "0    Male      1992.0  \n",
       "1  Female      1992.0  \n",
       "2    Male      1981.0  \n",
       "3    Male      1986.0  \n",
       "4    Male      1975.0  "
      ]
     },
     "execution_count": 5,
     "metadata": {},
     "output_type": "execute_result"
    }
   ],
   "source": [
    "df.head()"
   ]
  },
  {
   "cell_type": "code",
   "execution_count": 6,
   "id": "f0e73740-5120-42ec-8bed-d79295772126",
   "metadata": {},
   "outputs": [
    {
     "name": "stdout",
     "output_type": "stream",
     "text": [
      "Total Trip Duration: 280871787\n",
      "Average Trip Duration: 936.23929\n",
      "First Start Station: Wood St & Hubbard St\n",
      "Has Female Users: True\n",
      "Start Stations List: ['Wood St & Hubbard St', 'Theater on the Lake', 'May St & Taylor St', 'Christiana Ave & Lawrence Ave', 'Clark St & Randolph St']\n",
      "Summary Stats: (936.23929, 670.0, 1548.7927674096338)\n",
      "User Type Counts: {'Subscriber': 238889, 'Customer': 61110, 'Dependent': 1}\n",
      "Unique Start Stations: ['Clark St & Wrightwood Ave', 'MLK Jr Dr & 47th St', 'Bennett Ave & 79th St', 'Evans Ave & 75th St', 'Wood St & Hubbard St']\n",
      "Total Duration: 280871787\n",
      "Average Duration: 936.23929\n",
      "Number of Long Trips: 91064\n",
      "Number of Male Trips by Users Born After 1990: 29109\n",
      "Sample Adjusted Durations: 0     381\n",
      "1    1670\n",
      "2     476\n",
      "3     410\n",
      "4     594\n",
      "Name: Adjusted Duration, dtype: int64\n"
     ]
    }
   ],
   "source": [
    "total_trip_duration = df['Trip Duration'].sum()\n",
    "average_trip_duration = df['Trip Duration'].mean()\n",
    "\n",
    "# Strings\n",
    "first_start_station = df['Start Station'].iloc[0]\n",
    "\n",
    "# Booleans\n",
    "has_female_users = 'Female' in df['Gender'].unique()\n",
    "\n",
    "# Compound Data Types\n",
    "# Lists\n",
    "start_stations_list = df['Start Station'].tolist()\n",
    "\n",
    "# Tuples\n",
    "summary_stats = (df['Trip Duration'].mean(), df['Trip Duration'].median(), df['Trip Duration'].std())\n",
    "\n",
    "# Dictionaries\n",
    "user_type_counts = df['User Type'].value_counts().to_dict()\n",
    "\n",
    "# Sets\n",
    "unique_stations = set(df['Start Station'])\n",
    "\n",
    "# Operators\n",
    "# Arithmetic Operators\n",
    "total_duration = df['Trip Duration'].sum() # Total trip duration\n",
    "average_duration = df['Trip Duration'].mean() # Average trip duration\n",
    "\n",
    "# Comparison Operators\n",
    "long_trips = df[df['Trip Duration'] > 1000] # Filtering trips longer than 1000 seconds\n",
    "\n",
    "# Logical Operators\n",
    "male_trips = df[(df['Gender'] == 'Male') & (df['Birth Year'] > 1990)] # Trips by males born after 1990\n",
    "\n",
    "# Assignment Operators\n",
    "df['Adjusted Duration'] = df['Trip Duration'] # Creating a new column\n",
    "df['Adjusted Duration'] += 60 # Adding 60 seconds to each trip duration\n",
    "\n",
    "# Output results\n",
    "print(\"Total Trip Duration:\", total_trip_duration)\n",
    "print(\"Average Trip Duration:\", average_trip_duration)\n",
    "print(\"First Start Station:\", first_start_station)\n",
    "print(\"Has Female Users:\", has_female_users)\n",
    "print(\"Start Stations List:\", start_stations_list[:5]) # Print first 5 to avoid clutter\n",
    "print(\"Summary Stats:\", summary_stats)\n",
    "print(\"User Type Counts:\", user_type_counts)\n",
    "print(\"Unique Start Stations:\", list(unique_stations)[:5]) # Print first 5 to avoid clutter\n",
    "print(\"Total Duration:\", total_duration)\n",
    "print(\"Average Duration:\", average_duration)\n",
    "print(\"Number of Long Trips:\", len(long_trips))\n",
    "print(\"Number of Male Trips by Users Born After 1990:\", len(male_trips))\n",
    "print(\"Sample Adjusted Durations:\", df['Adjusted Duration'].head())\n",
    "\n",
    "# Save results to a new CSV file\n",
    "df.to_csv('chicago_analysis_results.csv', index=False)"
   ]
  },
  {
   "cell_type": "code",
   "execution_count": null,
   "id": "b5ea4179-9375-4c4f-b7b8-f7c614c1759f",
   "metadata": {},
   "outputs": [],
   "source": []
  }
 ],
 "metadata": {
  "kernelspec": {
   "display_name": "Python 3 (ipykernel)",
   "language": "python",
   "name": "python3"
  },
  "language_info": {
   "codemirror_mode": {
    "name": "ipython",
    "version": 3
   },
   "file_extension": ".py",
   "mimetype": "text/x-python",
   "name": "python",
   "nbconvert_exporter": "python",
   "pygments_lexer": "ipython3",
   "version": "3.11.7"
  }
 },
 "nbformat": 4,
 "nbformat_minor": 5
}
